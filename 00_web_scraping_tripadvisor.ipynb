{
 "cells": [
  {
   "cell_type": "markdown",
   "id": "eb09379b",
   "metadata": {},
   "source": [
    "# Web Scraping"
   ]
  },
  {
   "cell_type": "code",
   "execution_count": 1,
   "id": "dc8cbc5f",
   "metadata": {},
   "outputs": [],
   "source": [
    "import requests\n",
    "from bs4 import BeautifulSoup as bts\n",
    "import pandas as pd\n",
    "import re\n",
    "import numpy as np\n",
    "import time"
   ]
  },
  {
   "cell_type": "code",
   "execution_count": 2,
   "id": "77738d21",
   "metadata": {},
   "outputs": [],
   "source": [
    "def getAndParseURL(url):\n",
    "    result = requests.get(url, headers={\"User-Agent\":\"Chrome/119.0.6045.105 \"})\n",
    "    soup = bts(result.text, 'html.parser')\n",
    "    return soup"
   ]
  },
  {
   "cell_type": "code",
   "execution_count": 3,
   "id": "13495ec8",
   "metadata": {},
   "outputs": [
    {
     "data": {
      "text/plain": [
       "['https://www.tripadvisor.com/Restaurants-g60713-San_Francisco_California.html',\n",
       " 'https://www.tripadvisor.com/Restaurants-g60713-oa30-San_Francisco_California.html',\n",
       " 'https://www.tripadvisor.com/Restaurants-g60713-oa60-San_Francisco_California.html',\n",
       " 'https://www.tripadvisor.com/Restaurants-g60713-oa90-San_Francisco_California.html',\n",
       " 'https://www.tripadvisor.com/Restaurants-g60713-oa120-San_Francisco_California.html',\n",
       " 'https://www.tripadvisor.com/Restaurants-g60713-oa150-San_Francisco_California.html',\n",
       " 'https://www.tripadvisor.com/Restaurants-g60713-oa180-San_Francisco_California.html']"
      ]
     },
     "execution_count": 3,
     "metadata": {},
     "output_type": "execute_result"
    }
   ],
   "source": [
    "pages = [\"https://www.tripadvisor.com/Restaurants-g60713-San_Francisco_California.html\"]\n",
    "for page in range(1,7):\n",
    "    pages.append(\"https://www.tripadvisor.com/Restaurants-g60713-oa\" + str(page*30) + \"-San_Francisco_California.html\")\n",
    "    \n",
    "pages"
   ]
  },
  {
   "cell_type": "code",
   "execution_count": 4,
   "id": "1d99b2d6",
   "metadata": {},
   "outputs": [
    {
     "data": {
      "text/plain": [
       "['https://www.tripadvisor.com/Restaurant_Review-g60713-d13497261-Reviews-Mersea_Restaurant_Bar-San_Francisco_California.html',\n",
       " 'https://www.tripadvisor.com/Restaurant_Review-g60713-d8784356-Reviews-Fogo_de_Chao_Brazilian_Steakhouse-San_Francisco_California.html',\n",
       " 'https://www.tripadvisor.com/Restaurant_Review-g60713-d20108107-Reviews-Luisa_s_Restaurant_Wine_Bar_Since_1959-San_Francisco_California.html',\n",
       " 'https://www.tripadvisor.com/Restaurant_Review-g60713-d1027321-Reviews-L_ardoise_Bistro-San_Francisco_California.html',\n",
       " 'https://www.tripadvisor.com/Restaurant_Review-g60713-d1999071-Reviews-Seven_Hills-San_Francisco_California.html',\n",
       " 'https://www.tripadvisor.com/Restaurant_Review-g60713-d370538-Reviews-Blue_Mermaid_Restaurant-San_Francisco_California.html',\n",
       " 'https://www.tripadvisor.com/Restaurant_Review-g60713-d8122118-Reviews-Eight_Am-San_Francisco_California.html',\n",
       " 'https://www.tripadvisor.com/Restaurant_Review-g60713-d353907-Reviews-Mo_s_Grill-San_Francisco_California.html',\n",
       " 'https://www.tripadvisor.com/Restaurant_Review-g60713-d353917-Reviews-Kokkari_Estiatorio-San_Francisco_California.html',\n",
       " 'https://www.tripadvisor.com/Restaurant_Review-g60713-d14018177-Reviews-Lapisara_Eatery-San_Francisco_California.html',\n",
       " 'https://www.tripadvisor.com/Restaurant_Review-g60713-d349411-Reviews-Quince-San_Francisco_California.html',\n",
       " 'https://www.tripadvisor.com/Restaurant_Review-g60713-d10166218-Reviews-Piccolo_Forno-San_Francisco_California.html',\n",
       " 'https://www.tripadvisor.com/Restaurant_Review-g60713-d11956915-Reviews-Surisan-San_Francisco_California.html',\n",
       " 'https://www.tripadvisor.com/Restaurant_Review-g60713-d368799-Reviews-Anchor_Oyster_Bar-San_Francisco_California.html',\n",
       " 'https://www.tripadvisor.com/Restaurant_Review-g60713-d2225127-Reviews-Sweet_Maple-San_Francisco_California.html',\n",
       " 'https://www.tripadvisor.com/Restaurant_Review-g33062-d673173-Reviews-Fred_s_Coffee_Shop-Sausalito_Marin_County_California.html',\n",
       " 'https://www.tripadvisor.com/Restaurant_Review-g60713-d360100-Reviews-Fino_Bar_Ristorante-San_Francisco_California.html',\n",
       " 'https://www.tripadvisor.com/Restaurant_Review-g60713-d11862449-Reviews-Betty_Lou_s_Seafood_and_Grill-San_Francisco_California.html',\n",
       " 'https://www.tripadvisor.com/Restaurant_Review-g60713-d367037-Reviews-Pacific_Cafe-San_Francisco_California.html',\n",
       " 'https://www.tripadvisor.com/Restaurant_Review-g60713-d370413-Reviews-Frascati-San_Francisco_California.html',\n",
       " 'https://www.tripadvisor.com/Restaurant_Review-g60713-d7627146-Reviews-Liholiho_Yacht_Club-San_Francisco_California.html',\n",
       " 'https://www.tripadvisor.com/Restaurant_Review-g60713-d370408-Reviews-Za_Pizza-San_Francisco_California.html',\n",
       " 'https://www.tripadvisor.com/Restaurant_Review-g33062-d513718-Reviews-Scoma_s_Of_Sausalito-Sausalito_Marin_County_California.html',\n",
       " 'https://www.tripadvisor.com/Restaurant_Review-g60713-d367027-Reviews-Burma_Superstar_Restaurant-San_Francisco_California.html',\n",
       " 'https://www.tripadvisor.com/Restaurant_Review-g60713-d1537869-Reviews-Hollywood_Cafe-San_Francisco_California.html',\n",
       " 'https://www.tripadvisor.com/Restaurant_Review-g33062-d1197842-Reviews-Lighthouse_Breakfast_Lunch-Sausalito_Marin_County_California.html',\n",
       " 'https://www.tripadvisor.com/Restaurant_Review-g29073-d5452256-Reviews-Trabocco-Alameda_California.html',\n",
       " 'https://www.tripadvisor.com/Restaurant_Review-g60713-d370405-Reviews-Pacific_Catch-San_Francisco_California.html',\n",
       " 'https://www.tripadvisor.com/Restaurant_Review-g60713-d447668-Reviews-Delancey_Street_Restaurant-San_Francisco_California.html',\n",
       " 'https://www.tripadvisor.com/Restaurant_Review-g60713-d1199164-Reviews-Brenda_s_French_Soul_Food-San_Francisco_California.html',\n",
       " 'https://www.tripadvisor.com/Restaurant_Review-g60713-d370412-Reviews-Restaurant_Gary_Danko-San_Francisco_California.html',\n",
       " 'https://www.tripadvisor.com/Restaurant_Review-g60713-d353960-Reviews-Hog_Island_Oyster_Co-San_Francisco_California.html',\n",
       " 'https://www.tripadvisor.com/Restaurant_Review-g60713-d353941-Reviews-Nob_Hill_Cafe-San_Francisco_California.html',\n",
       " 'https://www.tripadvisor.com/Restaurant_Review-g60713-d1056013-Reviews-Pat_s_Cafe-San_Francisco_California.html',\n",
       " 'https://www.tripadvisor.com/Restaurant_Review-g60713-d469276-Reviews-Pescatore_Trattoria-San_Francisco_California.html',\n",
       " 'https://www.tripadvisor.com/Restaurant_Review-g32810-d1544869-Reviews-Burma_Superstar-Oakland_California.html',\n",
       " 'https://www.tripadvisor.com/Restaurant_Review-g60713-d2556798-Reviews-State_Bird_Provisions-San_Francisco_California.html',\n",
       " 'https://www.tripadvisor.com/Restaurant_Review-g33062-d379256-Reviews-Sushi_Ran-Sausalito_Marin_County_California.html',\n",
       " 'https://www.tripadvisor.com/Restaurant_Review-g60713-d368755-Reviews-Zazie-San_Francisco_California.html',\n",
       " 'https://www.tripadvisor.com/Restaurant_Review-g33062-d549552-Reviews-Napa_Valley_Burger_Company-Sausalito_Marin_County_California.html',\n",
       " 'https://www.tripadvisor.com/Restaurant_Review-g60713-d615020-Reviews-Nopa01-San_Francisco_California.html',\n",
       " 'https://www.tripadvisor.com/Restaurant_Review-g60713-d353909-Reviews-Boulevard-San_Francisco_California.html',\n",
       " 'https://www.tripadvisor.com/Restaurant_Review-g33175-d5955465-Reviews-Luna_Blu-Tiburon_Marin_County_California.html',\n",
       " 'https://www.tripadvisor.com/Restaurant_Review-g60713-d1488933-Reviews-Harris_Restaurant_The_San_Francisco_Steakhouse-San_Francisco_California.html',\n",
       " 'https://www.tripadvisor.com/Restaurant_Review-g60713-d2371705-Reviews-The_Codmother_Fish_Chips-San_Francisco_California.html',\n",
       " 'https://www.tripadvisor.com/Restaurant_Review-g60713-d1760062-Reviews-Taylor_Street_Coffee_Shop-San_Francisco_California.html',\n",
       " 'https://www.tripadvisor.com/Restaurant_Review-g60713-d370415-Reviews-Ristorante_Milano-San_Francisco_California.html',\n",
       " 'https://www.tripadvisor.com/Restaurant_Review-g60713-d2707715-Reviews-Mymy-San_Francisco_California.html',\n",
       " 'https://www.tripadvisor.com/Restaurant_Review-g60713-d1837377-Reviews-Darren_s_Cafe-San_Francisco_California.html',\n",
       " 'https://www.tripadvisor.com/Restaurant_Review-g60713-d360113-Reviews-Chez_Maman-San_Francisco_California.html',\n",
       " 'https://www.tripadvisor.com/Restaurant_Review-g60713-d367029-Reviews-Chapeau-San_Francisco_California.html',\n",
       " 'https://www.tripadvisor.com/Restaurant_Review-g60713-d1048779-Reviews-Bourbon_and_Branch-San_Francisco_California.html',\n",
       " 'https://www.tripadvisor.com/Restaurant_Review-g32810-d10067472-Reviews-Belotti_Ristorante_E_Bottega-Oakland_California.html',\n",
       " 'https://www.tripadvisor.com/Restaurant_Review-g60713-d1047401-Reviews-Fog_Harbor_Fish_House-San_Francisco_California.html',\n",
       " 'https://www.tripadvisor.com/Restaurant_Review-g60713-d6451396-Reviews-Il_Casaro_Pizzeria_and_Mozzarella_Bar-San_Francisco_California.html',\n",
       " 'https://www.tripadvisor.com/Restaurant_Review-g60713-d373595-Reviews-Home_Plate-San_Francisco_California.html',\n",
       " 'https://www.tripadvisor.com/Restaurant_Review-g60713-d954128-Reviews-Sotto_Mare_Oysteria_Seafood-San_Francisco_California.html',\n",
       " 'https://www.tripadvisor.com/Restaurant_Review-g33062-d1841122-Reviews-Venice_Gourmet-Sausalito_Marin_County_California.html',\n",
       " 'https://www.tripadvisor.com/Restaurant_Review-g60713-d372061-Reviews-Ideale_Restaurant_Bar-San_Francisco_California.html',\n",
       " 'https://www.tripadvisor.com/Restaurant_Review-g60909-d373642-Reviews-Buckeye_Roadhouse-Mill_Valley_Marin_County_California.html',\n",
       " 'https://www.tripadvisor.com/Restaurant_Review-g60713-d370409-Reviews-House_of_Prime_Rib-San_Francisco_California.html',\n",
       " 'https://www.tripadvisor.com/Restaurant_Review-g60713-d7697112-Reviews-Mourad-San_Francisco_California.html',\n",
       " 'https://www.tripadvisor.com/Restaurant_Review-g60713-d353893-Reviews-Trattoria_Contadina-San_Francisco_California.html',\n",
       " 'https://www.tripadvisor.com/Restaurant_Review-g60713-d526537-Reviews-Akiko_s_Sushi_Bar_and_Restaurant-San_Francisco_California.html',\n",
       " 'https://www.tripadvisor.com/Restaurant_Review-g60713-d2589752-Reviews-Bouche-San_Francisco_California.html',\n",
       " 'https://www.tripadvisor.com/Restaurant_Review-g60713-d360124-Reviews-Original_Joe_s-San_Francisco_California.html',\n",
       " 'https://www.tripadvisor.com/Restaurant_Review-g60713-d7940648-Reviews-Montesacro_Pinseria-San_Francisco_California.html',\n",
       " 'https://www.tripadvisor.com/Restaurant_Review-g60713-d372051-Reviews-Ristorante_Firenze_By_Night-San_Francisco_California.html',\n",
       " 'https://www.tripadvisor.com/Restaurant_Review-g60713-d6615195-Reviews-Curry_Leaf_Restaurant-San_Francisco_California.html',\n",
       " 'https://www.tripadvisor.com/Restaurant_Review-g60713-d360083-Reviews-Ryoko_s_Japanese_Restaurant_Bar-San_Francisco_California.html',\n",
       " 'https://www.tripadvisor.com/Restaurant_Review-g60713-d353898-Reviews-Pazzia_Ristorante_Italiano-San_Francisco_California.html',\n",
       " 'https://www.tripadvisor.com/Restaurant_Review-g60713-d2310995-Reviews-Sam_s_Diner-San_Francisco_California.html',\n",
       " 'https://www.tripadvisor.com/Restaurant_Review-g60713-d370407-Reviews-Swan_Oyster_Depot-San_Francisco_California.html',\n",
       " 'https://www.tripadvisor.com/Restaurant_Review-g60713-d4105961-Reviews-Coqueta-San_Francisco_California.html',\n",
       " 'https://www.tripadvisor.com/Restaurant_Review-g60713-d642582-Reviews-Perbacco-San_Francisco_California.html',\n",
       " 'https://www.tripadvisor.com/Restaurant_Review-g33062-d502950-Reviews-Poggio_Trattoria-Sausalito_Marin_County_California.html',\n",
       " 'https://www.tripadvisor.com/Restaurant_Review-g60713-d3865082-Reviews-Kitchen_Story-San_Francisco_California.html',\n",
       " 'https://www.tripadvisor.com/Restaurant_Review-g60713-d360163-Reviews-City_View_Restaurant-San_Francisco_California.html',\n",
       " 'https://www.tripadvisor.com/Restaurant_Review-g60713-d372212-Reviews-Scoma_s_Restaurant-San_Francisco_California.html',\n",
       " 'https://www.tripadvisor.com/Restaurant_Review-g33062-d2310769-Reviews-Bar_Bocce-Sausalito_Marin_County_California.html',\n",
       " 'https://www.tripadvisor.com/Restaurant_Review-g60713-d1645853-Reviews-Tony_s_Pizza_Napoletana-San_Francisco_California.html',\n",
       " 'https://www.tripadvisor.com/Restaurant_Review-g32066-d371480-Reviews-Oceanview_Diner-Berkeley_California.html',\n",
       " 'https://www.tripadvisor.com/Restaurant_Review-g60713-d531722-Reviews-Buena_Vista_Cafe-San_Francisco_California.html',\n",
       " 'https://www.tripadvisor.com/Restaurant_Review-g60713-d360106-Reviews-Yank_Sing_Stevenson_St-San_Francisco_California.html',\n",
       " 'https://www.tripadvisor.com/Restaurant_Review-g60713-d3385749-Reviews-Rich_Table-San_Francisco_California.html',\n",
       " 'https://www.tripadvisor.com/Restaurant_Review-g60713-d1999065-Reviews-Cotogna-San_Francisco_California.html',\n",
       " 'https://www.tripadvisor.com/Restaurant_Review-g60713-d4545329-Reviews-Roka_Akor_San_Francisco-San_Francisco_California.html',\n",
       " 'https://www.tripadvisor.com/Restaurant_Review-g60713-d370462-Reviews-Greens-San_Francisco_California.html',\n",
       " 'https://www.tripadvisor.com/Restaurant_Review-g60713-d353959-Reviews-Yank_Sing-San_Francisco_California.html',\n",
       " 'https://www.tripadvisor.com/Restaurant_Review-g33062-d4765708-Reviews-Barrel_House_Tavern-Sausalito_Marin_County_California.html',\n",
       " 'https://www.tripadvisor.com/Restaurant_Review-g60713-d3652457-Reviews-Off_the_Grid_Fort_Mason_Center-San_Francisco_California.html',\n",
       " 'https://www.tripadvisor.com/Restaurant_Review-g60713-d966017-Reviews-Waterbar-San_Francisco_California.html',\n",
       " 'https://www.tripadvisor.com/Restaurant_Review-g60713-d673218-Reviews-Spruce-San_Francisco_California.html',\n",
       " 'https://www.tripadvisor.com/Restaurant_Review-g60713-d3440645-Reviews-Lolinda-San_Francisco_California.html',\n",
       " 'https://www.tripadvisor.com/Restaurant_Review-g29073-d1061600-Reviews-Burma_Superstar-Alameda_California.html',\n",
       " 'https://www.tripadvisor.com/Restaurant_Review-g60713-d360133-Reviews-Sanraku_Japanese_Restaurant-San_Francisco_California.html',\n",
       " 'https://www.tripadvisor.com/Restaurant_Review-g60713-d354033-Reviews-Fior_d_Italia-San_Francisco_California.html',\n",
       " 'https://www.tripadvisor.com/Restaurant_Review-g60713-d480544-Reviews-Pier_Market_Seafood_Restaurant-San_Francisco_California.html',\n",
       " 'https://www.tripadvisor.com/Restaurant_Review-g60713-d353915-Reviews-Tommaso_Ristorante_Italiano-San_Francisco_California.html',\n",
       " 'https://www.tripadvisor.com/Restaurant_Review-g60713-d8017597-Reviews-Trestle-San_Francisco_California.html',\n",
       " 'https://www.tripadvisor.com/Restaurant_Review-g60713-d1177191-Reviews-La_Mar_Cebicheria_Peruana-San_Francisco_California.html',\n",
       " 'https://www.tripadvisor.com/Restaurant_Review-g60713-d1114113-Reviews-Amber_India_Restaurant-San_Francisco_California.html',\n",
       " 'https://www.tripadvisor.com/Restaurant_Review-g60713-d1951625-Reviews-54_Mint-San_Francisco_California.html',\n",
       " 'https://www.tripadvisor.com/Restaurant_Review-g60713-d1733647-Reviews-Frances-San_Francisco_California.html',\n",
       " 'https://www.tripadvisor.com/Restaurant_Review-g60713-d799769-Reviews-Crab_House_at_Pier_39-San_Francisco_California.html',\n",
       " 'https://www.tripadvisor.com/Restaurant_Review-g60713-d353924-Reviews-Bix-San_Francisco_California.html',\n",
       " 'https://www.tripadvisor.com/Restaurant_Review-g60713-d480710-Reviews-Sears_Fine_Foods-San_Francisco_California.html',\n",
       " 'https://www.tripadvisor.com/Restaurant_Review-g60713-d1816902-Reviews-Wayfare_Tavern-San_Francisco_California.html',\n",
       " 'https://www.tripadvisor.com/Restaurant_Review-g60713-d353988-Reviews-Le_Colonial-San_Francisco_California.html',\n",
       " 'https://www.tripadvisor.com/Restaurant_Review-g60713-d1062020-Reviews-Lolo-San_Francisco_California.html',\n",
       " 'https://www.tripadvisor.com/Restaurant_Review-g60713-d353964-Reviews-John_s_Grill-San_Francisco_California.html',\n",
       " 'https://www.tripadvisor.com/Restaurant_Review-g33062-d3193796-Reviews-Copita_Tequileria_y_Comida-Sausalito_Marin_County_California.html',\n",
       " 'https://www.tripadvisor.com/Restaurant_Review-g60713-d522806-Reviews-Bistro_Boudin-San_Francisco_California.html',\n",
       " 'https://www.tripadvisor.com/Restaurant_Review-g60713-d1315289-Reviews-Slanted_Door-San_Francisco_California.html',\n",
       " 'https://www.tripadvisor.com/Restaurant_Review-g60713-d2161608-Reviews-Don_Pisto_s-San_Francisco_California.html',\n",
       " 'https://www.tripadvisor.com/Restaurant_Review-g60713-d360159-Reviews-Foreign_Cinema-San_Francisco_California.html',\n",
       " 'https://www.tripadvisor.com/Restaurant_Review-g60713-d944010-Reviews-Piazza_Pellegrini-San_Francisco_California.html',\n",
       " 'https://www.tripadvisor.com/Restaurant_Review-g60713-d349432-Reviews-Tommy_s_Joynt-San_Francisco_California.html',\n",
       " 'https://www.tripadvisor.com/Restaurant_Review-g60713-d7618932-Reviews-The_View_Lounge-San_Francisco_California.html',\n",
       " 'https://www.tripadvisor.com/Restaurant_Review-g60713-d446708-Reviews-Taj_Campton_Place-San_Francisco_California.html',\n",
       " 'https://www.tripadvisor.com/Restaurant_Review-g60713-d12718979-Reviews-Roma_Antica-San_Francisco_California.html',\n",
       " 'https://www.tripadvisor.com/Restaurant_Review-g60713-d3243481-Reviews-Sutter_Pub_Restaurant-San_Francisco_California.html',\n",
       " 'https://www.tripadvisor.com/Restaurant_Review-g60713-d353920-Reviews-Tadich_Grill-San_Francisco_California.html',\n",
       " 'https://www.tripadvisor.com/Restaurant_Review-g60713-d982672-Reviews-Epic_Steak-San_Francisco_California.html',\n",
       " 'https://www.tripadvisor.com/Restaurant_Review-g32352-d466517-Reviews-Townhouse-Emeryville_California.html',\n",
       " 'https://www.tripadvisor.com/Restaurant_Review-g60713-d7311918-Reviews-The_Progress-San_Francisco_California.html',\n",
       " 'https://www.tripadvisor.com/Restaurant_Review-g60713-d353958-Reviews-Ozumo_San_Francisco-San_Francisco_California.html',\n",
       " 'https://www.tripadvisor.com/Restaurant_Review-g60713-d493512-Reviews-EO_Kitchen_Bar-San_Francisco_California.html',\n",
       " 'https://www.tripadvisor.com/Restaurant_Review-g60713-d2479735-Reviews-Hillstone-San_Francisco_California.html',\n",
       " 'https://www.tripadvisor.com/Restaurant_Review-g60713-d349429-Reviews-Espetus_Churrascaria-San_Francisco_California.html',\n",
       " 'https://www.tripadvisor.com/Restaurant_Review-g60713-d618686-Reviews-La_Ciccia-San_Francisco_California.html',\n",
       " 'https://www.tripadvisor.com/Restaurant_Review-g60713-d2460131-Reviews-Delarosa-San_Francisco_California.html',\n",
       " 'https://www.tripadvisor.com/Restaurant_Review-g60713-d1308422-Reviews-The_Big_4_Restaurant-San_Francisco_California.html',\n",
       " 'https://www.tripadvisor.com/Restaurant_Review-g60713-d1048010-Reviews-Wipeout_Bar_Grill-San_Francisco_California.html',\n",
       " 'https://www.tripadvisor.com/Restaurant_Review-g60713-d7274172-Reviews-Last_Drop_Tavern-San_Francisco_California.html',\n",
       " 'https://www.tripadvisor.com/Restaurant_Review-g60713-d6708239-Reviews-China_Live-San_Francisco_California.html',\n",
       " 'https://www.tripadvisor.com/Restaurant_Review-g60713-d360061-Reviews-Delfina_Restaurant-San_Francisco_California.html',\n",
       " 'https://www.tripadvisor.com/Restaurant_Review-g60713-d874577-Reviews-Top_of_the_Mark-San_Francisco_California.html',\n",
       " 'https://www.tripadvisor.com/Restaurant_Review-g60713-d9854894-Reviews-Matador-San_Francisco_California.html',\n",
       " 'https://www.tripadvisor.com/Restaurant_Review-g60713-d354066-Reviews-North_Beach_Restaurant-San_Francisco_California.html',\n",
       " 'https://www.tripadvisor.com/Restaurant_Review-g60713-d370438-Reviews-Acquerello-San_Francisco_California.html',\n",
       " 'https://www.tripadvisor.com/Restaurant_Review-g60713-d349444-Reviews-Absinthe_Brasserie_Bar-San_Francisco_California.html',\n",
       " 'https://www.tripadvisor.com/Restaurant_Review-g60713-d1927760-Reviews-Plow-San_Francisco_California.html',\n",
       " 'https://www.tripadvisor.com/Restaurant_Review-g60713-d354050-Reviews-One_Market_Restaurant-San_Francisco_California.html',\n",
       " 'https://www.tripadvisor.com/Restaurant_Review-g60713-d2365286-Reviews-Park_Tavern-San_Francisco_California.html',\n",
       " 'https://www.tripadvisor.com/Restaurant_Review-g60713-d353932-Reviews-21st_Amendment_Pub_Restaurant-San_Francisco_California.html',\n",
       " 'https://www.tripadvisor.com/Restaurant_Review-g33062-d544955-Reviews-Angelino_Restaurant-Sausalito_Marin_County_California.html',\n",
       " 'https://www.tripadvisor.com/Restaurant_Review-g33062-d3507399-Reviews-Seafood_Peddler-Sausalito_Marin_County_California.html',\n",
       " 'https://www.tripadvisor.com/Restaurant_Review-g60713-d2001299-Reviews-Atelier_Crenn-San_Francisco_California.html',\n",
       " 'https://www.tripadvisor.com/Restaurant_Review-g60713-d367063-Reviews-Cha_Cha_Cha-San_Francisco_California.html',\n",
       " 'https://www.tripadvisor.com/Restaurant_Review-g33062-d3366685-Reviews-Salito_s_Crab_House_Prime_Rib-Sausalito_Marin_County_California.html',\n",
       " 'https://www.tripadvisor.com/Restaurant_Review-g60713-d360117-Reviews-Bob_s_Steak_and_Chop_House-San_Francisco_California.html',\n",
       " 'https://www.tripadvisor.com/Restaurant_Review-g60713-d349460-Reviews-Zuni_Cafe-San_Francisco_California.html',\n",
       " 'https://www.tripadvisor.com/Restaurant_Review-g33062-d895061-Reviews-Salsalito_Taco_Shop-Sausalito_Marin_County_California.html',\n",
       " 'https://www.tripadvisor.com/Restaurant_Review-g60713-d1419336-Reviews-Pinecrest_Diner-San_Francisco_California.html',\n",
       " 'https://www.tripadvisor.com/Restaurant_Review-g60713-d349448-Reviews-Crustacean-San_Francisco_California.html',\n",
       " 'https://www.tripadvisor.com/Restaurant_Review-g60713-d6468862-Reviews-Kin_Khao-San_Francisco_California.html',\n",
       " 'https://www.tripadvisor.com/Restaurant_Review-g60713-d446798-Reviews-Eagle_Cafe-San_Francisco_California.html',\n",
       " 'https://www.tripadvisor.com/Restaurant_Review-g60713-d1906450-Reviews-Tacolicious-San_Francisco_California.html',\n",
       " 'https://www.tripadvisor.com/Restaurant_Review-g32278-d9982073-Reviews-Original_Joe_s_Westlake-Daly_City_California.html',\n",
       " 'https://www.tripadvisor.com/Restaurant_Review-g60713-d12315718-Reviews-Marufuku_Ramen-San_Francisco_California.html',\n",
       " 'https://www.tripadvisor.com/Restaurant_Review-g60713-d7950201-Reviews-Octavia-San_Francisco_California.html',\n",
       " 'https://www.tripadvisor.com/Restaurant_Review-g60713-d2253728-Reviews-The_Rotunda_at_Neiman_Marcus-San_Francisco_California.html',\n",
       " 'https://www.tripadvisor.com/Restaurant_Review-g60713-d521778-Reviews-Roxanne_Cafe-San_Francisco_California.html',\n",
       " 'https://www.tripadvisor.com/Restaurant_Review-g60713-d368856-Reviews-Orphan_Andy_s-San_Francisco_California.html',\n",
       " 'https://www.tripadvisor.com/Restaurant_Review-g32810-d1988126-Reviews-Mua-Oakland_California.html',\n",
       " 'https://www.tripadvisor.com/Restaurant_Review-g60713-d1988153-Reviews-Prospect-San_Francisco_California.html',\n",
       " 'https://www.tripadvisor.com/Restaurant_Review-g60713-d607840-Reviews-Cesario_s-San_Francisco_California.html',\n",
       " 'https://www.tripadvisor.com/Restaurant_Review-g60713-d520209-Reviews-Johnny_Foley_s-San_Francisco_California.html',\n",
       " 'https://www.tripadvisor.com/Restaurant_Review-g60713-d1517012-Reviews-Nopalito-San_Francisco_California.html',\n",
       " 'https://www.tripadvisor.com/Restaurant_Review-g60713-d446709-Reviews-Mason_Diner-San_Francisco_California.html',\n",
       " 'https://www.tripadvisor.com/Restaurant_Review-g60713-d919193-Reviews-Little_Star_Pizza-San_Francisco_California.html',\n",
       " 'https://www.tripadvisor.com/Restaurant_Review-g60713-d626365-Reviews-Woodhouse_Fish_Co-San_Francisco_California.html',\n",
       " 'https://www.tripadvisor.com/Restaurant_Review-g60713-d1516973-Reviews-Flour_Water-San_Francisco_California.html',\n",
       " 'https://www.tripadvisor.com/Restaurant_Review-g32810-d485445-Reviews-Scott_s_Seafood_Restaurant-Oakland_California.html',\n",
       " 'https://www.tripadvisor.com/Restaurant_Review-g29073-d344705-Reviews-Speisekammer-Alameda_California.html',\n",
       " 'https://www.tripadvisor.com/Restaurant_Review-g60713-d1315283-Reviews-Perry_s-San_Francisco_California.html',\n",
       " 'https://www.tripadvisor.com/Restaurant_Review-g60713-d372065-Reviews-Mona_Lisa_Restaurant-San_Francisco_California.html',\n",
       " 'https://www.tripadvisor.com/Restaurant_Review-g60713-d1772903-Reviews-Marlowe-San_Francisco_California.html',\n",
       " 'https://www.tripadvisor.com/Restaurant_Review-g60713-d2436003-Reviews-Z_Y_Restaurant-San_Francisco_California.html',\n",
       " 'https://www.tripadvisor.com/Restaurant_Review-g29073-d538366-Reviews-East_Ocean_Seafood_Restaurant-Alameda_California.html',\n",
       " 'https://www.tripadvisor.com/Restaurant_Review-g33062-d509392-Reviews-The_Spinnaker-Sausalito_Marin_County_California.html',\n",
       " 'https://www.tripadvisor.com/Restaurant_Review-g60713-d354010-Reviews-The_Stinking_Rose-San_Francisco_California.html',\n",
       " 'https://www.tripadvisor.com/Restaurant_Review-g60713-d370444-Reviews-Rose_s_Cafe-San_Francisco_California.html',\n",
       " 'https://www.tripadvisor.com/Restaurant_Review-g60713-d1468768-Reviews-Maru_Sushi-San_Francisco_California.html',\n",
       " 'https://www.tripadvisor.com/Restaurant_Review-g32810-d371547-Reviews-The_Fat_Lady_Bar_Restaurant-Oakland_California.html',\n",
       " 'https://www.tripadvisor.com/Restaurant_Review-g60713-d7078638-Reviews-Happy_Lamb_Hot_Pot-San_Francisco_California.html',\n",
       " 'https://www.tripadvisor.com/Restaurant_Review-g60713-d357146-Reviews-Thanh_Long-San_Francisco_California.html',\n",
       " 'https://www.tripadvisor.com/Restaurant_Review-g60713-d1064696-Reviews-IHOP-San_Francisco_California.html',\n",
       " 'https://www.tripadvisor.com/Restaurant_Review-g60713-d1308401-Reviews-Tropisueno-San_Francisco_California.html',\n",
       " 'https://www.tripadvisor.com/Restaurant_Review-g60713-d2391352-Reviews-The_Old_Siam_Thai_Restaurant-San_Francisco_California.html',\n",
       " 'https://www.tripadvisor.com/Restaurant_Review-g60713-d7387089-Reviews-Shizen-San_Francisco_California.html',\n",
       " 'https://www.tripadvisor.com/Restaurant_Review-g33062-d3936206-Reviews-The_Trident-Sausalito_Marin_County_California.html',\n",
       " 'https://www.tripadvisor.com/Restaurant_Review-g60713-d354098-Reviews-House_of_Nanking-San_Francisco_California.html',\n",
       " 'https://www.tripadvisor.com/Restaurant_Review-g60713-d353935-Reviews-Scala_s_Bistro-San_Francisco_California.html',\n",
       " 'https://www.tripadvisor.com/Restaurant_Review-g60713-d493274-Reviews-Franciscan_Crab_Restaurant-San_Francisco_California.html',\n",
       " 'https://www.tripadvisor.com/Restaurant_Review-g60713-d493546-Reviews-Magnolia_Pub_Brewery-San_Francisco_California.html',\n",
       " 'https://www.tripadvisor.com/Restaurant_Review-g60713-d537845-Reviews-Rocco_s_Cafe-San_Francisco_California.html',\n",
       " 'https://www.tripadvisor.com/Restaurant_Review-g60713-d5449890-Reviews-Aliment-San_Francisco_California.html',\n",
       " 'https://www.tripadvisor.com/Restaurant_Review-g60713-d3257130-Reviews-Blackwood-San_Francisco_California.html',\n",
       " 'https://www.tripadvisor.com/Restaurant_Review-g60713-d360037-Reviews-Uncle_Vito_s_Pizzeria-San_Francisco_California.html',\n",
       " 'https://www.tripadvisor.com/Restaurant_Review-g60713-d370463-Reviews-Isa-San_Francisco_California.html',\n",
       " 'https://www.tripadvisor.com/Restaurant_Review-g60713-d1099521-Reviews-Poesia_Osteria_Italiana-San_Francisco_California.html',\n",
       " 'https://www.tripadvisor.com/Restaurant_Review-g60713-d372054-Reviews-Bubba_Gump_Shrimp_Co-San_Francisco_California.html',\n",
       " 'https://www.tripadvisor.com/Restaurant_Review-g60713-d1826584-Reviews-Good_Mong_Kok_Bakery-San_Francisco_California.html',\n",
       " 'https://www.tripadvisor.com/Restaurant_Review-g60713-d944983-Reviews-Pacific_Catch-San_Francisco_California.html',\n",
       " 'https://www.tripadvisor.com/Restaurant_Review-g60713-d353954-Reviews-R_G_Lounge-San_Francisco_California.html',\n",
       " 'https://www.tripadvisor.com/Restaurant_Review-g33175-d518891-Reviews-Sam_s_Anchor_Cafe-Tiburon_Marin_County_California.html',\n",
       " 'https://www.tripadvisor.com/Restaurant_Review-g32066-d377656-Reviews-Skates_On_The_Bay-Berkeley_California.html',\n",
       " 'https://www.tripadvisor.com/Restaurant_Review-g33062-d3292403-Reviews-Saylor_s_Restaurant_Bar-Sausalito_Marin_County_California.html']"
      ]
     },
     "execution_count": 4,
     "metadata": {},
     "output_type": "execute_result"
    }
   ],
   "source": [
    "links = []\n",
    "\n",
    "for page in pages:\n",
    "    html = getAndParseURL(page)\n",
    "    for rslt in html.findAll(\"a\",{\"class\":\"BMQDV _F Gv wSSLS SwZTJ FGwzt ukgoS\"}):\n",
    "        links.append('https://www.tripadvisor.com' + rslt.get('href'))\n",
    "\n",
    "links = [url for url in links if url.startswith(\"https://www.tripadvisor.com/Restaurant_Review\")]\n",
    "links"
   ]
  },
  {
   "cell_type": "code",
   "execution_count": 5,
   "id": "99ba4c50",
   "metadata": {},
   "outputs": [
    {
     "data": {
      "text/plain": [
       "210"
      ]
     },
     "execution_count": 5,
     "metadata": {},
     "output_type": "execute_result"
    }
   ],
   "source": [
    "len(links)"
   ]
  },
  {
   "cell_type": "code",
   "execution_count": 6,
   "id": "69839d20",
   "metadata": {},
   "outputs": [
    {
     "data": {
      "text/html": [
       "<div>\n",
       "<style scoped>\n",
       "    .dataframe tbody tr th:only-of-type {\n",
       "        vertical-align: middle;\n",
       "    }\n",
       "\n",
       "    .dataframe tbody tr th {\n",
       "        vertical-align: top;\n",
       "    }\n",
       "\n",
       "    .dataframe thead th {\n",
       "        text-align: right;\n",
       "    }\n",
       "</style>\n",
       "<table border=\"1\" class=\"dataframe\">\n",
       "  <thead>\n",
       "    <tr style=\"text-align: right;\">\n",
       "      <th></th>\n",
       "      <th>review</th>\n",
       "    </tr>\n",
       "  </thead>\n",
       "  <tbody>\n",
       "    <tr>\n",
       "      <th>0</th>\n",
       "      <td>Having lived in the Bay Area for 30+ years I r...</td>\n",
       "    </tr>\n",
       "    <tr>\n",
       "      <th>1</th>\n",
       "      <td>Long time diner, first time reviewer. I’ve bee...</td>\n",
       "    </tr>\n",
       "    <tr>\n",
       "      <th>2</th>\n",
       "      <td>The view, the staff, the ceviche and the fish ...</td>\n",
       "    </tr>\n",
       "    <tr>\n",
       "      <th>3</th>\n",
       "      <td>My brother-in-law loves Fish and Chips.  We he...</td>\n",
       "    </tr>\n",
       "    <tr>\n",
       "      <th>4</th>\n",
       "      <td>The food is always great! I always start with ...</td>\n",
       "    </tr>\n",
       "    <tr>\n",
       "      <th>...</th>\n",
       "      <td>...</td>\n",
       "    </tr>\n",
       "    <tr>\n",
       "      <th>3419</th>\n",
       "      <td>If your looking for great food, the best servi...</td>\n",
       "    </tr>\n",
       "    <tr>\n",
       "      <th>3420</th>\n",
       "      <td>If you come alone, you won't feel alone for ve...</td>\n",
       "    </tr>\n",
       "    <tr>\n",
       "      <th>3421</th>\n",
       "      <td>Rather than spend an hour in grid lock of the ...</td>\n",
       "    </tr>\n",
       "    <tr>\n",
       "      <th>3422</th>\n",
       "      <td>Good, solid, old school Mexican food at a very...</td>\n",
       "    </tr>\n",
       "    <tr>\n",
       "      <th>3423</th>\n",
       "      <td>Best Mexican food in Marin; lots of American f...</td>\n",
       "    </tr>\n",
       "  </tbody>\n",
       "</table>\n",
       "<p>3424 rows × 1 columns</p>\n",
       "</div>"
      ],
      "text/plain": [
       "                                                 review\n",
       "0     Having lived in the Bay Area for 30+ years I r...\n",
       "1     Long time diner, first time reviewer. I’ve bee...\n",
       "2     The view, the staff, the ceviche and the fish ...\n",
       "3     My brother-in-law loves Fish and Chips.  We he...\n",
       "4     The food is always great! I always start with ...\n",
       "...                                                 ...\n",
       "3419  If your looking for great food, the best servi...\n",
       "3420  If you come alone, you won't feel alone for ve...\n",
       "3421  Rather than spend an hour in grid lock of the ...\n",
       "3422  Good, solid, old school Mexican food at a very...\n",
       "3423  Best Mexican food in Marin; lots of American f...\n",
       "\n",
       "[3424 rows x 1 columns]"
      ]
     },
     "execution_count": 6,
     "metadata": {},
     "output_type": "execute_result"
    }
   ],
   "source": [
    "result = []\n",
    "\n",
    "for rslt in links:\n",
    "    html = getAndParseURL(rslt)\n",
    "    \n",
    "    try:\n",
    "        div_elements = html.find_all(\"div\", {\"class\": \"entry\"})\n",
    "        reviews = [div.find(\"p\", class_=\"partial_entry\").text for div in div_elements]\n",
    "    except:\n",
    "        reviews = [np.nan]\n",
    "    \n",
    "    result.extend(reviews)\n",
    "\n",
    "columns = ['review']\n",
    "df = pd.DataFrame(result, columns=columns)\n",
    "\n",
    "df"
   ]
  },
  {
   "cell_type": "code",
   "execution_count": 7,
   "id": "a61996ad",
   "metadata": {},
   "outputs": [
    {
     "data": {
      "text/plain": [
       "review    0\n",
       "dtype: int64"
      ]
     },
     "execution_count": 7,
     "metadata": {},
     "output_type": "execute_result"
    }
   ],
   "source": [
    "df.isna().sum()"
   ]
  },
  {
   "cell_type": "code",
   "execution_count": 8,
   "id": "0176f6d2",
   "metadata": {},
   "outputs": [
    {
     "data": {
      "text/plain": [
       "'Having lived in the Bay Area for 30+ years I regret not finding out about this place sooner. Treasure Island has such unique views of the SF skyline, from the waterfront to the Golden Gate Bridge all the way around to the Bay Bridge, \\n\\nMersea...has a super laid-back vibe with incredible food and drinks and the most outrageous view of the SF skyline,  a full 270 degree water view with floor to ceiling windows. \\n\\nDaniel makes an incredible Manhattan, and the poke was super fresh.  Meesun was an amazing hostess and made sure we ordered all the house specials…Truffle fries, Fish and Chips etc etc. Mmmmm!! We will definitely be back soon!More'"
      ]
     },
     "execution_count": 8,
     "metadata": {},
     "output_type": "execute_result"
    }
   ],
   "source": [
    "df.review[0]"
   ]
  },
  {
   "cell_type": "code",
   "execution_count": 9,
   "id": "7fa1ce48",
   "metadata": {},
   "outputs": [
    {
     "data": {
      "text/plain": [
       "'Best Mexican food in Marin; lots of American food choices too! Best lunch dinner menu in Marin. Best Bar and Happy Hour! This is a favorite Sausalito locals spot. Kid friendly.'"
      ]
     },
     "execution_count": 9,
     "metadata": {},
     "output_type": "execute_result"
    }
   ],
   "source": [
    "df.review[3423]"
   ]
  },
  {
   "cell_type": "code",
   "execution_count": 10,
   "id": "7ab75377",
   "metadata": {},
   "outputs": [
    {
     "data": {
      "text/plain": [
       "'Good, solid, old school Mexican food at a very fair price.  Good enchiladas along with with some Cabo inspired fish tacos.  Excellent guacamole, and the beer prices say we value you as a customer.  A great value and a welcoming place where the food is...quite good.  It is much better than the other Mexican places in town, particularly the over priced and over touristy, Copitas. We come here every few weeks and have always had a good meal.More'"
      ]
     },
     "execution_count": 10,
     "metadata": {},
     "output_type": "execute_result"
    }
   ],
   "source": [
    "df.review[3422]"
   ]
  },
  {
   "cell_type": "code",
   "execution_count": 11,
   "id": "03f63533",
   "metadata": {},
   "outputs": [
    {
     "data": {
      "text/html": [
       "<div>\n",
       "<style scoped>\n",
       "    .dataframe tbody tr th:only-of-type {\n",
       "        vertical-align: middle;\n",
       "    }\n",
       "\n",
       "    .dataframe tbody tr th {\n",
       "        vertical-align: top;\n",
       "    }\n",
       "\n",
       "    .dataframe thead th {\n",
       "        text-align: right;\n",
       "    }\n",
       "</style>\n",
       "<table border=\"1\" class=\"dataframe\">\n",
       "  <thead>\n",
       "    <tr style=\"text-align: right;\">\n",
       "      <th></th>\n",
       "      <th>review</th>\n",
       "    </tr>\n",
       "  </thead>\n",
       "  <tbody>\n",
       "    <tr>\n",
       "      <th>1595</th>\n",
       "      <td>We were hiking thru the touristy parts  of Fis...</td>\n",
       "    </tr>\n",
       "  </tbody>\n",
       "</table>\n",
       "</div>"
      ],
      "text/plain": [
       "                                                 review\n",
       "1595  We were hiking thru the touristy parts  of Fis..."
      ]
     },
     "execution_count": 11,
     "metadata": {},
     "output_type": "execute_result"
    }
   ],
   "source": [
    "df.sample()"
   ]
  },
  {
   "cell_type": "code",
   "execution_count": 12,
   "id": "0da499f5",
   "metadata": {},
   "outputs": [
    {
     "data": {
      "text/html": [
       "<div>\n",
       "<style scoped>\n",
       "    .dataframe tbody tr th:only-of-type {\n",
       "        vertical-align: middle;\n",
       "    }\n",
       "\n",
       "    .dataframe tbody tr th {\n",
       "        vertical-align: top;\n",
       "    }\n",
       "\n",
       "    .dataframe thead th {\n",
       "        text-align: right;\n",
       "    }\n",
       "</style>\n",
       "<table border=\"1\" class=\"dataframe\">\n",
       "  <thead>\n",
       "    <tr style=\"text-align: right;\">\n",
       "      <th></th>\n",
       "      <th>review</th>\n",
       "    </tr>\n",
       "  </thead>\n",
       "  <tbody>\n",
       "    <tr>\n",
       "      <th>3059</th>\n",
       "      <td>We've sent you a private message as a personal...</td>\n",
       "    </tr>\n",
       "    <tr>\n",
       "      <th>3411</th>\n",
       "      <td>TravelGirl, We are so glad you were able to di...</td>\n",
       "    </tr>\n",
       "    <tr>\n",
       "      <th>236</th>\n",
       "      <td>Consistently great.  Old faithful.  Ive been c...</td>\n",
       "    </tr>\n",
       "    <tr>\n",
       "      <th>1237</th>\n",
       "      <td>The quality of yum cha / dim sim were good. Ex...</td>\n",
       "    </tr>\n",
       "    <tr>\n",
       "      <th>134</th>\n",
       "      <td>The burger was average and the fries weren’t t...</td>\n",
       "    </tr>\n",
       "    <tr>\n",
       "      <th>385</th>\n",
       "      <td>Hi there Coriahnar. Thank you for the very kin...</td>\n",
       "    </tr>\n",
       "    <tr>\n",
       "      <th>2008</th>\n",
       "      <td>I wasn’t sure what to expect when I checked ou...</td>\n",
       "    </tr>\n",
       "    <tr>\n",
       "      <th>344</th>\n",
       "      <td>An impossible place to get into, Liholiho offe...</td>\n",
       "    </tr>\n",
       "    <tr>\n",
       "      <th>2523</th>\n",
       "      <td>I love Thai food in general. This is the best ...</td>\n",
       "    </tr>\n",
       "    <tr>\n",
       "      <th>2387</th>\n",
       "      <td>Hands down one of the best dining experiences ...</td>\n",
       "    </tr>\n",
       "  </tbody>\n",
       "</table>\n",
       "</div>"
      ],
      "text/plain": [
       "                                                 review\n",
       "3059  We've sent you a private message as a personal...\n",
       "3411  TravelGirl, We are so glad you were able to di...\n",
       "236   Consistently great.  Old faithful.  Ive been c...\n",
       "1237  The quality of yum cha / dim sim were good. Ex...\n",
       "134   The burger was average and the fries weren’t t...\n",
       "385   Hi there Coriahnar. Thank you for the very kin...\n",
       "2008  I wasn’t sure what to expect when I checked ou...\n",
       "344   An impossible place to get into, Liholiho offe...\n",
       "2523  I love Thai food in general. This is the best ...\n",
       "2387  Hands down one of the best dining experiences ..."
      ]
     },
     "execution_count": 12,
     "metadata": {},
     "output_type": "execute_result"
    }
   ],
   "source": [
    "df.sample(10)"
   ]
  },
  {
   "cell_type": "code",
   "execution_count": 13,
   "id": "16f87b27",
   "metadata": {},
   "outputs": [],
   "source": [
    "df.to_json('reviews.json', orient='records', lines=True)"
   ]
  },
  {
   "cell_type": "code",
   "execution_count": null,
   "id": "d8f6b49d",
   "metadata": {},
   "outputs": [],
   "source": []
  }
 ],
 "metadata": {
  "kernelspec": {
   "display_name": "Python 3 (ipykernel)",
   "language": "python",
   "name": "python3"
  },
  "language_info": {
   "codemirror_mode": {
    "name": "ipython",
    "version": 3
   },
   "file_extension": ".py",
   "mimetype": "text/x-python",
   "name": "python",
   "nbconvert_exporter": "python",
   "pygments_lexer": "ipython3",
   "version": "3.11.4"
  }
 },
 "nbformat": 4,
 "nbformat_minor": 5
}
